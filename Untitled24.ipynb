{
 "cells": [
  {
   "cell_type": "markdown",
   "id": "99cc995d-b9b7-4cd7-80ee-288c9621de46",
   "metadata": {},
   "source": [
    "#INTRODUCTION TO PYTHON , OPERATOR ,STRING AND FUNCTION , LOOP AND CONDITIONAL STATEMENTS\n",
    "\n",
    "\n",
    "Lab Task:"
   ]
  },
  {
   "cell_type": "code",
   "execution_count": 9,
   "id": "551b9db2-2f16-4025-9272-288b9c7bf561",
   "metadata": {},
   "outputs": [
    {
     "name": "stdin",
     "output_type": "stream",
     "text": [
      "Enter a number:  2\n"
     ]
    },
    {
     "name": "stdout",
     "output_type": "stream",
     "text": [
      "Result: 9\n"
     ]
    }
   ],
   "source": [
    "num = int(input(\"Enter a number: \"))\n",
    "\n",
    "result = (num + 3) * 2 - 4 + 3\n",
    "\n",
    "print(\"Result:\", result)"
   ]
  },
  {
   "cell_type": "code",
   "execution_count": 10,
   "id": "a2f919f9-dfcc-4a2b-b1a1-c7c0b57f5a02",
   "metadata": {},
   "outputs": [
    {
     "name": "stdin",
     "output_type": "stream",
     "text": [
      "Enter temperature in Celsius:  4\n"
     ]
    },
    {
     "name": "stdout",
     "output_type": "stream",
     "text": [
      "Temperature in Fahrenheit: 39.2\n"
     ]
    }
   ],
   "source": [
    "celsius = float(input(\"Enter temperature in Celsius: \"))\n",
    "\n",
    "fahrenheit = (celsius * 1.8) + 32\n",
    "\n",
    "print(\"Temperature in Fahrenheit:\", fahrenheit)"
   ]
  },
  {
   "cell_type": "code",
   "execution_count": 11,
   "id": "452621e0-f770-4ee4-9a49-fcfb2b0f4826",
   "metadata": {},
   "outputs": [
    {
     "name": "stdin",
     "output_type": "stream",
     "text": [
      "Enter the radius of the circle:  23\n"
     ]
    },
    {
     "name": "stdout",
     "output_type": "stream",
     "text": [
      "Area of the circle: 1661.9025137490005\n"
     ]
    }
   ],
   "source": [
    "import math\n",
    "radius = float(input(\"Enter the radius of the circle: \"))\n",
    "\n",
    "area = math.pi * (radius ** 2)\n",
    "\n",
    "print(\"Area of the circle:\", area)"
   ]
  },
  {
   "cell_type": "code",
   "execution_count": 28,
   "id": "aaea82ce-f6dc-4a5f-a5b4-372ff48aa273",
   "metadata": {},
   "outputs": [
    {
     "name": "stdin",
     "output_type": "stream",
     "text": [
      "What's your favorite color?  black\n"
     ]
    },
    {
     "name": "stdout",
     "output_type": "stream",
     "text": [
      "blackblackblackblackblackblackblackblackblackblack\n",
      "black black\n",
      "blackblackblackblackblackblackblackblackblackblack\n"
     ]
    }
   ],
   "source": [
    "fav_colour = input(\"What's your favorite color? \")\n",
    "\n",
    "print(fav_colour * 10)\n",
    "\n",
    "print(f\"{fav_colour} {fav_colour}\")\n",
    "\n",
    "print(fav_colour * 10)"
   ]
  },
  {
   "cell_type": "code",
   "execution_count": 8,
   "id": "40fa36b7-622e-4b75-82d4-784db75797d6",
   "metadata": {},
   "outputs": [
    {
     "name": "stdout",
     "output_type": "stream",
     "text": [
      "With whitespace: \t hassan khan \n",
      "\n",
      "Left stripped: hassan khan \n",
      "\n",
      "Right stripped: \t hassan khan\n",
      "Fully stripped: hassan khan\n"
     ]
    }
   ],
   "source": [
    "name = \"\\t hassan khan \\n\"\n",
    "print(\"With whitespace:\", name)\n",
    "\n",
    "print(\"Left stripped:\", name.lstrip())\n",
    "\n",
    "print(\"Right stripped:\", name.rstrip())\n",
    "\n",
    "print(\"Fully stripped:\", name.strip())\n"
   ]
  },
  {
   "cell_type": "code",
   "execution_count": 16,
   "id": "a2a935b0-e8b2-4f69-a5f1-e5857874394f",
   "metadata": {},
   "outputs": [
    {
     "name": "stdin",
     "output_type": "stream",
     "text": [
      "Enter a number for multiplication table:  3\n"
     ]
    },
    {
     "name": "stdout",
     "output_type": "stream",
     "text": [
      "3 x 1 = 3\n",
      "3 x 2 = 6\n",
      "3 x 3 = 9\n",
      "3 x 4 = 12\n",
      "3 x 5 = 15\n",
      "3 x 6 = 18\n",
      "3 x 7 = 21\n",
      "3 x 8 = 24\n",
      "3 x 9 = 27\n",
      "3 x 10 = 30\n"
     ]
    }
   ],
   "source": [
    "number = int(input(\"Enter a number for multiplication table: \"))\n",
    "\n",
    "for i in range(1, 11):\n",
    "    \n",
    "    print(f\"{number} x {i} = {number * i}\")"
   ]
  },
  {
   "cell_type": "code",
   "execution_count": 21,
   "id": "f6abb9b7-ff5b-447b-b71d-11ea538363d9",
   "metadata": {},
   "outputs": [
    {
     "name": "stdout",
     "output_type": "stream",
     "text": [
      "Islamabad is in Pakistan.\n",
      "Lahore is in Pakistan.\n",
      "New York is in USA.\n"
     ]
    }
   ],
   "source": [
    "def describe_city(city, country=\"Pakistan\"):\n",
    "    \n",
    "    print(f\"{city} is in {country}.\")\n",
    "\n",
    "\n",
    "describe_city(\"Islamabad\")\n",
    "\n",
    "describe_city(\"Lahore\")\n",
    "\n",
    "describe_city(\"New York\", \"USA\")\n"
   ]
  },
  {
   "cell_type": "code",
   "execution_count": 19,
   "id": "d546bf27-4712-467d-97fd-e05aa9260f31",
   "metadata": {},
   "outputs": [
    {
     "name": "stdin",
     "output_type": "stream",
     "text": [
      "Enter a number to find its absolute value:  2.3\n"
     ]
    },
    {
     "name": "stdout",
     "output_type": "stream",
     "text": [
      "Absolute value: 2.3\n"
     ]
    }
   ],
   "source": [
    "def absolute_num(num):\n",
    "    return abs(num)\n",
    "\n",
    "number = float(input(\"Enter a number to find its absolute value: \"))\n",
    "print(\"Absolute value:\", absolute_num(number))"
   ]
  },
  {
   "cell_type": "code",
   "execution_count": 20,
   "id": "ccb3b075-e59a-4a51-aa23-e29abe1a72e6",
   "metadata": {},
   "outputs": [
    {
     "name": "stdin",
     "output_type": "stream",
     "text": [
      "Enter an alphabet:  a\n"
     ]
    },
    {
     "name": "stdout",
     "output_type": "stream",
     "text": [
      "a is a vowel.\n"
     ]
    }
   ],
   "source": [
    "alphabet = input(\"Enter an alphabet: \").lower()\n",
    "if alphabet in 'aeiou':\n",
    "    print(f\"{alphabet} is a vowel.\")\n",
    "else:\n",
    "    print(f\"{alphabet} is a consonant.\")\n"
   ]
  },
  {
   "cell_type": "code",
   "execution_count": 22,
   "id": "4af27887-0fce-4434-9381-1da8c8ee58f4",
   "metadata": {},
   "outputs": [
    {
     "name": "stdin",
     "output_type": "stream",
     "text": [
      "Enter a number to check if it's prime:  4\n"
     ]
    },
    {
     "name": "stdout",
     "output_type": "stream",
     "text": [
      "4 is not prime.\n"
     ]
    }
   ],
   "source": [
    "num = int(input(\"Enter a number to check if it's prime: \"))\n",
    "\n",
    "is_prime = True\n",
    "\n",
    "if num <= 1:\n",
    "    \n",
    "    is_prime = False\n",
    "    \n",
    "else:\n",
    "    for i in range(2, int(num**0.5) + 1):\n",
    "        \n",
    "        if num % i == 0:\n",
    "            \n",
    "            is_prime = False\n",
    "            \n",
    "            break\n",
    "            \n",
    "print(f\"{num} is {'prime' if is_prime else 'not prime'}.\")"
   ]
  },
  {
   "cell_type": "code",
   "execution_count": 23,
   "id": "55fb79b7-afe1-4c8e-9905-6c74a9c8cd82",
   "metadata": {},
   "outputs": [
    {
     "name": "stdin",
     "output_type": "stream",
     "text": [
      "Enter a number to check if it's prime:  3\n"
     ]
    },
    {
     "name": "stdout",
     "output_type": "stream",
     "text": [
      "3 is prime.\n"
     ]
    }
   ],
   "source": [
    "num = int(input(\"Enter a number to check if it's prime: \"))\n",
    "\n",
    "is_prime = True\n",
    "\n",
    "if num <= 1:\n",
    "    \n",
    "    is_prime = False\n",
    "    \n",
    "else:\n",
    "    for i in range(2, int(num**0.5) + 1):\n",
    "        \n",
    "        if num % i == 0:\n",
    "            \n",
    "            is_prime = False\n",
    "            \n",
    "            break\n",
    "            \n",
    "print(f\"{num} is {'prime' if is_prime else 'not prime'}.\")"
   ]
  },
  {
   "cell_type": "code",
   "execution_count": 24,
   "id": "509f6623-1dc4-4868-9a96-372bf61aa05c",
   "metadata": {},
   "outputs": [
    {
     "name": "stdout",
     "output_type": "stream",
     "text": [
      "0 1 2 4 5 \n"
     ]
    }
   ],
   "source": [
    "for i in range(7):\n",
    "    if i == 3 or i == 6:\n",
    "        continue\n",
    "    print(i, end=' ')\n",
    "print()\n"
   ]
  },
  {
   "cell_type": "code",
   "execution_count": 25,
   "id": "95209163-ce1b-45db-bfde-c9205d83e1f5",
   "metadata": {},
   "outputs": [
    {
     "name": "stdout",
     "output_type": "stream",
     "text": [
      "1 \n",
      "2 2 \n",
      "3 3 3 \n",
      "4 4 4 4 \n",
      "5 5 5 5 5 \n"
     ]
    }
   ],
   "source": [
    "for i in range(1, 6):\n",
    "    for j in range(i):\n",
    "        print(i, end=' ')\n",
    "    print()"
   ]
  },
  {
   "cell_type": "code",
   "execution_count": 26,
   "id": "eff99c6e-a70e-4f89-a0db-5ef0d4500b00",
   "metadata": {},
   "outputs": [
    {
     "name": "stdin",
     "output_type": "stream",
     "text": [
      "Enter age:  20\n"
     ]
    },
    {
     "name": "stdout",
     "output_type": "stream",
     "text": [
      "The person is an adult.\n"
     ]
    }
   ],
   "source": [
    "age = int(input(\"Enter age: \"))\n",
    "if age < 2:\n",
    "    \n",
    "    print(\"The person is a baby.\")\n",
    "    \n",
    "elif 4 <= age < 13:\n",
    "    \n",
    "    print(\"The person is a kid.\")\n",
    "    \n",
    "elif 13 <= age < 20:\n",
    "    print(\"The person is a teenager.\")\n",
    "    \n",
    "elif 20 <= age < 65:\n",
    "    \n",
    "    print(\"The person is an adult.\")\n",
    "    \n",
    "else:\n",
    "    \n",
    "    print(\"The person is an elder.\")"
   ]
  },
  {
   "cell_type": "code",
   "execution_count": null,
   "id": "610c12cf-5551-4858-a29c-a3861a8eeb9b",
   "metadata": {},
   "outputs": [],
   "source": []
  }
 ],
 "metadata": {
  "kernelspec": {
   "display_name": "Python 3 (ipykernel)",
   "language": "python",
   "name": "python3"
  },
  "language_info": {
   "codemirror_mode": {
    "name": "ipython",
    "version": 3
   },
   "file_extension": ".py",
   "mimetype": "text/x-python",
   "name": "python",
   "nbconvert_exporter": "python",
   "pygments_lexer": "ipython3",
   "version": "3.11.7"
  }
 },
 "nbformat": 4,
 "nbformat_minor": 5
}
